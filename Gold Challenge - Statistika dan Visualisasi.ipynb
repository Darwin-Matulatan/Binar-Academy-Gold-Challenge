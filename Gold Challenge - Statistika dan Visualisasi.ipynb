{
 "cells": [
  {
   "cell_type": "code",
   "execution_count": 1,
   "id": "1bbff55a",
   "metadata": {},
   "outputs": [],
   "source": [
    "import pandas as pd\n",
    "import re\n",
    "import matplotlib as mpl\n",
    "import matplotlib.pyplot as plt"
   ]
  },
  {
   "cell_type": "code",
   "execution_count": 2,
   "id": "d61a3365",
   "metadata": {},
   "outputs": [
    {
     "name": "stdout",
     "output_type": "stream",
     "text": [
      "C:\\Users\\aquar\\Binar Academy\\Gold Challenge\n"
     ]
    }
   ],
   "source": [
    "%cd \"C:/Users/aquar/Binar Academy/Gold Challenge\""
   ]
  },
  {
   "cell_type": "code",
   "execution_count": 8,
   "id": "bc01100e",
   "metadata": {},
   "outputs": [
    {
     "data": {
      "text/html": [
       "<div>\n",
       "<style scoped>\n",
       "    .dataframe tbody tr th:only-of-type {\n",
       "        vertical-align: middle;\n",
       "    }\n",
       "\n",
       "    .dataframe tbody tr th {\n",
       "        vertical-align: top;\n",
       "    }\n",
       "\n",
       "    .dataframe thead th {\n",
       "        text-align: right;\n",
       "    }\n",
       "</style>\n",
       "<table border=\"1\" class=\"dataframe\">\n",
       "  <thead>\n",
       "    <tr style=\"text-align: right;\">\n",
       "      <th></th>\n",
       "      <th>Tweet</th>\n",
       "      <th>HS</th>\n",
       "      <th>Abusive</th>\n",
       "      <th>HS_Individual</th>\n",
       "      <th>HS_Group</th>\n",
       "      <th>HS_Religion</th>\n",
       "      <th>HS_Race</th>\n",
       "      <th>HS_Physical</th>\n",
       "      <th>HS_Gender</th>\n",
       "      <th>HS_Other</th>\n",
       "      <th>HS_Weak</th>\n",
       "      <th>HS_Moderate</th>\n",
       "      <th>HS_Strong</th>\n",
       "    </tr>\n",
       "  </thead>\n",
       "  <tbody>\n",
       "    <tr>\n",
       "      <th>0</th>\n",
       "      <td>- disaat semua cowok berusaha melacak perhatia...</td>\n",
       "      <td>1</td>\n",
       "      <td>1</td>\n",
       "      <td>1</td>\n",
       "      <td>0</td>\n",
       "      <td>0</td>\n",
       "      <td>0</td>\n",
       "      <td>0</td>\n",
       "      <td>0</td>\n",
       "      <td>1</td>\n",
       "      <td>1</td>\n",
       "      <td>0</td>\n",
       "      <td>0</td>\n",
       "    </tr>\n",
       "    <tr>\n",
       "      <th>1</th>\n",
       "      <td>RT USER: USER siapa yang telat ngasih tau elu?...</td>\n",
       "      <td>0</td>\n",
       "      <td>1</td>\n",
       "      <td>0</td>\n",
       "      <td>0</td>\n",
       "      <td>0</td>\n",
       "      <td>0</td>\n",
       "      <td>0</td>\n",
       "      <td>0</td>\n",
       "      <td>0</td>\n",
       "      <td>0</td>\n",
       "      <td>0</td>\n",
       "      <td>0</td>\n",
       "    </tr>\n",
       "    <tr>\n",
       "      <th>2</th>\n",
       "      <td>41. Kadang aku berfikir, kenapa aku tetap perc...</td>\n",
       "      <td>0</td>\n",
       "      <td>0</td>\n",
       "      <td>0</td>\n",
       "      <td>0</td>\n",
       "      <td>0</td>\n",
       "      <td>0</td>\n",
       "      <td>0</td>\n",
       "      <td>0</td>\n",
       "      <td>0</td>\n",
       "      <td>0</td>\n",
       "      <td>0</td>\n",
       "      <td>0</td>\n",
       "    </tr>\n",
       "    <tr>\n",
       "      <th>3</th>\n",
       "      <td>USER USER AKU ITU AKU\\n\\nKU TAU MATAMU SIPIT T...</td>\n",
       "      <td>0</td>\n",
       "      <td>0</td>\n",
       "      <td>0</td>\n",
       "      <td>0</td>\n",
       "      <td>0</td>\n",
       "      <td>0</td>\n",
       "      <td>0</td>\n",
       "      <td>0</td>\n",
       "      <td>0</td>\n",
       "      <td>0</td>\n",
       "      <td>0</td>\n",
       "      <td>0</td>\n",
       "    </tr>\n",
       "    <tr>\n",
       "      <th>4</th>\n",
       "      <td>USER USER Kaum cebong kapir udah keliatan dong...</td>\n",
       "      <td>1</td>\n",
       "      <td>1</td>\n",
       "      <td>0</td>\n",
       "      <td>1</td>\n",
       "      <td>1</td>\n",
       "      <td>0</td>\n",
       "      <td>0</td>\n",
       "      <td>0</td>\n",
       "      <td>0</td>\n",
       "      <td>0</td>\n",
       "      <td>1</td>\n",
       "      <td>0</td>\n",
       "    </tr>\n",
       "    <tr>\n",
       "      <th>...</th>\n",
       "      <td>...</td>\n",
       "      <td>...</td>\n",
       "      <td>...</td>\n",
       "      <td>...</td>\n",
       "      <td>...</td>\n",
       "      <td>...</td>\n",
       "      <td>...</td>\n",
       "      <td>...</td>\n",
       "      <td>...</td>\n",
       "      <td>...</td>\n",
       "      <td>...</td>\n",
       "      <td>...</td>\n",
       "      <td>...</td>\n",
       "    </tr>\n",
       "    <tr>\n",
       "      <th>13164</th>\n",
       "      <td>USER jangan asal ngomong ndasmu. congor lu yg ...</td>\n",
       "      <td>1</td>\n",
       "      <td>1</td>\n",
       "      <td>1</td>\n",
       "      <td>0</td>\n",
       "      <td>0</td>\n",
       "      <td>0</td>\n",
       "      <td>1</td>\n",
       "      <td>0</td>\n",
       "      <td>0</td>\n",
       "      <td>1</td>\n",
       "      <td>0</td>\n",
       "      <td>0</td>\n",
       "    </tr>\n",
       "    <tr>\n",
       "      <th>13165</th>\n",
       "      <td>USER Kasur mana enak kunyuk'</td>\n",
       "      <td>0</td>\n",
       "      <td>1</td>\n",
       "      <td>0</td>\n",
       "      <td>0</td>\n",
       "      <td>0</td>\n",
       "      <td>0</td>\n",
       "      <td>0</td>\n",
       "      <td>0</td>\n",
       "      <td>0</td>\n",
       "      <td>0</td>\n",
       "      <td>0</td>\n",
       "      <td>0</td>\n",
       "    </tr>\n",
       "    <tr>\n",
       "      <th>13166</th>\n",
       "      <td>USER Hati hati bisu :( .g\\n\\nlagi bosan huft \\...</td>\n",
       "      <td>0</td>\n",
       "      <td>0</td>\n",
       "      <td>0</td>\n",
       "      <td>0</td>\n",
       "      <td>0</td>\n",
       "      <td>0</td>\n",
       "      <td>0</td>\n",
       "      <td>0</td>\n",
       "      <td>0</td>\n",
       "      <td>0</td>\n",
       "      <td>0</td>\n",
       "      <td>0</td>\n",
       "    </tr>\n",
       "    <tr>\n",
       "      <th>13167</th>\n",
       "      <td>USER USER USER USER Bom yang real mudah terdet...</td>\n",
       "      <td>0</td>\n",
       "      <td>0</td>\n",
       "      <td>0</td>\n",
       "      <td>0</td>\n",
       "      <td>0</td>\n",
       "      <td>0</td>\n",
       "      <td>0</td>\n",
       "      <td>0</td>\n",
       "      <td>0</td>\n",
       "      <td>0</td>\n",
       "      <td>0</td>\n",
       "      <td>0</td>\n",
       "    </tr>\n",
       "    <tr>\n",
       "      <th>13168</th>\n",
       "      <td>USER Mana situ ngasih(\": itu cuma foto ya kuti...</td>\n",
       "      <td>1</td>\n",
       "      <td>1</td>\n",
       "      <td>1</td>\n",
       "      <td>0</td>\n",
       "      <td>0</td>\n",
       "      <td>0</td>\n",
       "      <td>0</td>\n",
       "      <td>0</td>\n",
       "      <td>1</td>\n",
       "      <td>1</td>\n",
       "      <td>0</td>\n",
       "      <td>0</td>\n",
       "    </tr>\n",
       "  </tbody>\n",
       "</table>\n",
       "<p>13169 rows × 13 columns</p>\n",
       "</div>"
      ],
      "text/plain": [
       "                                                   Tweet  HS  Abusive  \\\n",
       "0      - disaat semua cowok berusaha melacak perhatia...   1        1   \n",
       "1      RT USER: USER siapa yang telat ngasih tau elu?...   0        1   \n",
       "2      41. Kadang aku berfikir, kenapa aku tetap perc...   0        0   \n",
       "3      USER USER AKU ITU AKU\\n\\nKU TAU MATAMU SIPIT T...   0        0   \n",
       "4      USER USER Kaum cebong kapir udah keliatan dong...   1        1   \n",
       "...                                                  ...  ..      ...   \n",
       "13164  USER jangan asal ngomong ndasmu. congor lu yg ...   1        1   \n",
       "13165                       USER Kasur mana enak kunyuk'   0        1   \n",
       "13166  USER Hati hati bisu :( .g\\n\\nlagi bosan huft \\...   0        0   \n",
       "13167  USER USER USER USER Bom yang real mudah terdet...   0        0   \n",
       "13168  USER Mana situ ngasih(\": itu cuma foto ya kuti...   1        1   \n",
       "\n",
       "       HS_Individual  HS_Group  HS_Religion  HS_Race  HS_Physical  HS_Gender  \\\n",
       "0                  1         0            0        0            0          0   \n",
       "1                  0         0            0        0            0          0   \n",
       "2                  0         0            0        0            0          0   \n",
       "3                  0         0            0        0            0          0   \n",
       "4                  0         1            1        0            0          0   \n",
       "...              ...       ...          ...      ...          ...        ...   \n",
       "13164              1         0            0        0            1          0   \n",
       "13165              0         0            0        0            0          0   \n",
       "13166              0         0            0        0            0          0   \n",
       "13167              0         0            0        0            0          0   \n",
       "13168              1         0            0        0            0          0   \n",
       "\n",
       "       HS_Other  HS_Weak  HS_Moderate  HS_Strong  \n",
       "0             1        1            0          0  \n",
       "1             0        0            0          0  \n",
       "2             0        0            0          0  \n",
       "3             0        0            0          0  \n",
       "4             0        0            1          0  \n",
       "...         ...      ...          ...        ...  \n",
       "13164         0        1            0          0  \n",
       "13165         0        0            0          0  \n",
       "13166         0        0            0          0  \n",
       "13167         0        0            0          0  \n",
       "13168         1        1            0          0  \n",
       "\n",
       "[13169 rows x 13 columns]"
      ]
     },
     "execution_count": 8,
     "metadata": {},
     "output_type": "execute_result"
    }
   ],
   "source": [
    "data = pd.read_csv('data.csv', encoding = 'windows-1250')\n",
    "data"
   ]
  },
  {
   "cell_type": "code",
   "execution_count": 63,
   "id": "68d682e0",
   "metadata": {},
   "outputs": [
    {
     "name": "stdout",
     "output_type": "stream",
     "text": [
      "Jumlah kalimat dengan kata abusive dan HS adalah 7309\n",
      "Jumlah kalimat tanpa kata abusive dan HS adalah 5860\n"
     ]
    }
   ],
   "source": [
    "abusive_dan_hs = 0\n",
    "no_abusive_dan_hs = 0\n",
    "\n",
    "for i in range(len(data)):\n",
    "    if(data.loc[i, 'HS'] == 1 or data.loc[i, 'Abusive'] == 1 or data.loc[i, 'HS_Individual'] == 1\n",
    "       or data.loc[i, 'HS_Group'] == 1 or data.loc[i, 'HS_Religion'] == 1 or data.loc[i, 'HS_Race'] == 1\n",
    "       or data.loc[i, 'HS_Physical'] == 1 or data.loc[i, 'HS_Gender'] == 1 or data.loc[i, 'HS_Other'] == 1\n",
    "       or data.loc[i, 'HS_Weak'] == 1 or data.loc[i, 'HS_Moderate'] == 1 or data.loc[i, 'HS_Strong'] == 1):\n",
    "        abusive_dan_hs += 1\n",
    "    else:\n",
    "        no_abusive_dan_hs += 1\n",
    "\n",
    "print('Jumlah kalimat dengan kata abusive dan HS adalah', abusive_dan_hs)\n",
    "print('Jumlah kalimat tanpa kata abusive dan HS adalah', no_abusive_dan_hs)"
   ]
  },
  {
   "cell_type": "code",
   "execution_count": 65,
   "id": "fc27079b",
   "metadata": {},
   "outputs": [
    {
     "name": "stdout",
     "output_type": "stream",
     "text": [
      "Jumlah kalimat dengan kata abusive adalah 5043\n",
      "Jumlah kalimat tanpa kata abusive adalah 8126\n"
     ]
    }
   ],
   "source": [
    "abusive = 0\n",
    "no_abusive = 0\n",
    "\n",
    "for i in range(len(data)):\n",
    "    if(data.loc[i, 'Abusive'] == 1):\n",
    "        abusive += 1\n",
    "    else:\n",
    "        no_abusive += 1\n",
    "        \n",
    "print('Jumlah kalimat dengan kata abusive adalah', abusive)\n",
    "print('Jumlah kalimat tanpa kata abusive adalah', no_abusive)"
   ]
  },
  {
   "cell_type": "code",
   "execution_count": 66,
   "id": "4fb3a4ad",
   "metadata": {},
   "outputs": [
    {
     "name": "stdout",
     "output_type": "stream",
     "text": [
      "Jumlah kalimat dengan hate speech adalah 5561\n",
      "Jumlah kalimat tanpa hate speech adalah 7608\n"
     ]
    }
   ],
   "source": [
    "hs = 0\n",
    "no_hs = 0\n",
    "\n",
    "for i in range(len(data)):\n",
    "    if(data.loc[i, 'HS'] == 1 or data.loc[i, 'HS_Individual'] == 1\n",
    "       or data.loc[i, 'HS_Group'] == 1 or data.loc[i, 'HS_Religion'] == 1 or data.loc[i, 'HS_Race'] == 1\n",
    "       or data.loc[i, 'HS_Physical'] == 1 or data.loc[i, 'HS_Gender'] == 1 or data.loc[i, 'HS_Other'] == 1\n",
    "       or data.loc[i, 'HS_Weak'] == 1 or data.loc[i, 'HS_Moderate'] == 1 or data.loc[i, 'HS_Strong'] == 1):\n",
    "        hs += 1\n",
    "    else:\n",
    "        no_hs += 1\n",
    "        \n",
    "print('Jumlah kalimat dengan hate speech adalah', hs)\n",
    "print('Jumlah kalimat tanpa hate speech adalah', no_hs)"
   ]
  },
  {
   "cell_type": "code",
   "execution_count": null,
   "id": "e3dc224a",
   "metadata": {},
   "outputs": [],
   "source": []
  },
  {
   "cell_type": "code",
   "execution_count": 41,
   "id": "659ffab6",
   "metadata": {},
   "outputs": [
    {
     "name": "stdout",
     "output_type": "stream",
     "text": [
      "HS = 5561\n"
     ]
    }
   ],
   "source": [
    "hs = 0\n",
    "\n",
    "for i in range(len(data)):\n",
    "    if(data.loc[i, 'HS'] == 1):\n",
    "        hs += 1\n",
    "\n",
    "print('HS =', hs)"
   ]
  },
  {
   "cell_type": "code",
   "execution_count": 42,
   "id": "7fa5efc5",
   "metadata": {},
   "outputs": [
    {
     "name": "stdout",
     "output_type": "stream",
     "text": [
      "Abusive = 5043\n"
     ]
    }
   ],
   "source": [
    "abusive = 0\n",
    "\n",
    "for i in range(len(data)):\n",
    "    if(data.loc[i, 'Abusive'] == 1):\n",
    "        abusive += 1\n",
    "        \n",
    "print('Abusive =', abusive)"
   ]
  },
  {
   "cell_type": "code",
   "execution_count": 44,
   "id": "7ceb23ee",
   "metadata": {},
   "outputs": [
    {
     "name": "stdout",
     "output_type": "stream",
     "text": [
      "HS_Individual = 3575\n"
     ]
    }
   ],
   "source": [
    "hs_individual = 0\n",
    "\n",
    "for i in range(len(data)):\n",
    "    if(data.loc[i, 'HS_Individual'] == 1):\n",
    "        hs_individual += 1\n",
    "        \n",
    "print('HS_Individual =', hs_individual)"
   ]
  },
  {
   "cell_type": "code",
   "execution_count": 45,
   "id": "a96315c1",
   "metadata": {},
   "outputs": [
    {
     "name": "stdout",
     "output_type": "stream",
     "text": [
      "HS_Group = 1986\n"
     ]
    }
   ],
   "source": [
    "hs_group = 0\n",
    "\n",
    "for i in range(len(data)):\n",
    "    if(data.loc[i, 'HS_Group'] == 1):\n",
    "        hs_group += 1\n",
    "        \n",
    "print('HS_Group =', hs_group)"
   ]
  },
  {
   "cell_type": "code",
   "execution_count": 47,
   "id": "d19580a4",
   "metadata": {},
   "outputs": [
    {
     "name": "stdout",
     "output_type": "stream",
     "text": [
      "HS_Religion = 793\n"
     ]
    }
   ],
   "source": [
    "hs_religion = 0\n",
    "\n",
    "for i in range(len(data)):\n",
    "    if(data.loc[i, 'HS_Religion'] == 1):\n",
    "        hs_religion += 1\n",
    "        \n",
    "print('HS_Religion =', hs_religion)"
   ]
  },
  {
   "cell_type": "code",
   "execution_count": 48,
   "id": "e228d170",
   "metadata": {},
   "outputs": [
    {
     "name": "stdout",
     "output_type": "stream",
     "text": [
      "HS_Race = 566\n"
     ]
    }
   ],
   "source": [
    "hs_race = 0\n",
    "\n",
    "for i in range(len(data)):\n",
    "    if(data.loc[i, 'HS_Race'] == 1):\n",
    "        hs_race += 1\n",
    "        \n",
    "print('HS_Race =', hs_race)"
   ]
  },
  {
   "cell_type": "code",
   "execution_count": 49,
   "id": "72994c23",
   "metadata": {},
   "outputs": [
    {
     "name": "stdout",
     "output_type": "stream",
     "text": [
      "HS_Physical = 323\n"
     ]
    }
   ],
   "source": [
    "hs_physical = 0\n",
    "\n",
    "for i in range(len(data)):\n",
    "    if(data.loc[i, 'HS_Physical'] == 1):\n",
    "        hs_physical += 1\n",
    "        \n",
    "print('HS_Physical =', hs_physical)"
   ]
  },
  {
   "cell_type": "code",
   "execution_count": 50,
   "id": "2ae5cefe",
   "metadata": {},
   "outputs": [
    {
     "name": "stdout",
     "output_type": "stream",
     "text": [
      "HS_Gender = 306\n"
     ]
    }
   ],
   "source": [
    "hs_gender = 0\n",
    "\n",
    "for i in range(len(data)):\n",
    "    if(data.loc[i, 'HS_Gender'] == 1):\n",
    "        hs_gender += 1\n",
    "        \n",
    "print('HS_Gender =', hs_gender)"
   ]
  },
  {
   "cell_type": "code",
   "execution_count": 52,
   "id": "d173eea6",
   "metadata": {},
   "outputs": [
    {
     "name": "stdout",
     "output_type": "stream",
     "text": [
      "HS_Other = 3740\n"
     ]
    }
   ],
   "source": [
    "hs_other = 0\n",
    "\n",
    "for i in range(len(data)):\n",
    "    if(data.loc[i, 'HS_Other'] == 1):\n",
    "        hs_other += 1\n",
    "        \n",
    "print('HS_Other =', hs_other)"
   ]
  },
  {
   "cell_type": "code",
   "execution_count": 55,
   "id": "4aa129c9",
   "metadata": {},
   "outputs": [
    {
     "name": "stdout",
     "output_type": "stream",
     "text": [
      "HS_Weak = 3383\n"
     ]
    }
   ],
   "source": [
    "hs_weak = 0\n",
    "\n",
    "for i in range(len(data)):\n",
    "    if(data.loc[i, 'HS_Weak'] == 1):\n",
    "        hs_weak += 1\n",
    "        \n",
    "print('HS_Weak =', hs_weak)"
   ]
  },
  {
   "cell_type": "code",
   "execution_count": 56,
   "id": "ec4f5744",
   "metadata": {},
   "outputs": [
    {
     "name": "stdout",
     "output_type": "stream",
     "text": [
      "HS_Moderate = 1705\n"
     ]
    }
   ],
   "source": [
    "hs_moderate = 0\n",
    "\n",
    "for i in range(len(data)):\n",
    "    if(data.loc[i, 'HS_Moderate'] == 1):\n",
    "        hs_moderate += 1\n",
    "        \n",
    "print('HS_Moderate =', hs_moderate)"
   ]
  },
  {
   "cell_type": "code",
   "execution_count": 57,
   "id": "94304c03",
   "metadata": {},
   "outputs": [
    {
     "name": "stdout",
     "output_type": "stream",
     "text": [
      "HS_Strong = 473\n"
     ]
    }
   ],
   "source": [
    "hs_strong = 0\n",
    "\n",
    "for i in range(len(data)):\n",
    "    if(data.loc[i, 'HS_Strong'] == 1):\n",
    "        hs_strong += 1\n",
    "        \n",
    "print('HS_Strong =', hs_strong)"
   ]
  },
  {
   "cell_type": "code",
   "execution_count": 70,
   "id": "dc0a8fd9",
   "metadata": {},
   "outputs": [
    {
     "data": {
      "text/plain": [
       "<function matplotlib.pyplot.show(close=None, block=None)>"
      ]
     },
     "execution_count": 70,
     "metadata": {},
     "output_type": "execute_result"
    },
    {
     "data": {
      "image/png": "[encoded data removed]",
      "text/plain": [
       "<Figure size 432x288 with 1 Axes>"
      ]
     },
     "metadata": {},
     "output_type": "display_data"
    }
   ],
   "source": [
    "kalimat = ['Kalimat Abusive dan HS', 'Kalimat Tanpa Abusive dan HS']\n",
    "jumlah = [7309, 5860]\n",
    "Explode = [0.1, 0]\n",
    "plt.pie(jumlah, explode = Explode, labels = kalimat, shadow = True, startangle = 45)\n",
    "plt.axis('equal')\n",
    "plt.legend(title = 'Jenis Kalimat')\n",
    "plt.show"
   ]
  },
  {
   "cell_type": "code",
   "execution_count": 71,
   "id": "31f9feee",
   "metadata": {},
   "outputs": [
    {
     "data": {
      "text/plain": [
       "<function matplotlib.pyplot.show(close=None, block=None)>"
      ]
     },
     "execution_count": 71,
     "metadata": {},
     "output_type": "execute_result"
    },
    {
     "data": {
      "image/png": "[encoded data removed]",
      "text/plain": [
       "<Figure size 432x288 with 1 Axes>"
      ]
     },
     "metadata": {},
     "output_type": "display_data"
    }
   ],
   "source": [
    "kalimat = ['Kalimat Abusive', 'Kalimat Tanpa Abusive']\n",
    "jumlah = [5043, 8126]\n",
    "Explode = [0.1, 0]\n",
    "plt.pie(jumlah, explode = Explode, labels = kalimat, shadow = True, startangle = 45)\n",
    "plt.axis('equal')\n",
    "plt.legend(title = 'Jenis Kalimat')\n",
    "plt.show"
   ]
  },
  {
   "cell_type": "code",
   "execution_count": 72,
   "id": "86541b03",
   "metadata": {},
   "outputs": [
    {
     "data": {
      "text/plain": [
       "<function matplotlib.pyplot.show(close=None, block=None)>"
      ]
     },
     "execution_count": 72,
     "metadata": {},
     "output_type": "execute_result"
    },
    {
     "data": {
      "image/png": "[encoded data removed]",
      "text/plain": [
       "<Figure size 432x288 with 1 Axes>"
      ]
     },
     "metadata": {},
     "output_type": "display_data"
    }
   ],
   "source": [
    "kalimat = ['Kalimat Hate Speech', 'Kalimat Tanpa Hate Speech']\n",
    "jumlah = [5561, 7608]\n",
    "Explode = [0.1, 0]\n",
    "plt.pie(jumlah, explode = Explode, labels = kalimat, shadow = True, startangle = 45)\n",
    "plt.axis('equal')\n",
    "plt.legend(title = 'Jenis Kalimat')\n",
    "plt.show          "
   ]
  },
  {
   "cell_type": "code",
   "execution_count": 62,
   "id": "b49b3def",
   "metadata": {},
   "outputs": [
    {
     "data": {
      "image/png": "[encoded data removed]",
      "text/plain": [
       "<Figure size 432x288 with 1 Axes>"
      ]
     },
     "metadata": {
      "needs_background": "light"
     },
     "output_type": "display_data"
    }
   ],
   "source": [
    "jenis_kata = ['HS', 'Abusive', 'HS_individual', 'HS_Group', 'HS_Religion', 'HS_Race', 'HS_Physical', 'HS_Gender', 'HS_Other',\n",
    "              'HS_Weak', 'HS_Moderate', 'HS-Strong']\n",
    "jumlah_kata = [5561, 5043, 3575, 1986, 793, 566, 323, 306, 3740, 3383, 1705, 473]\n",
    "\n",
    "plt.barh(jenis_kata, jumlah_kata, color = 'blue')\n",
    "plt.title('Kata Abusive dan HS vs Jumlah')\n",
    "plt.xlabel('Jumlah kata')\n",
    "plt.ylabel('Jenis kata')\n",
    "plt.show()"
   ]
  },
  {
   "cell_type": "code",
   "execution_count": 73,
   "id": "bf265016",
   "metadata": {},
   "outputs": [
    {
     "name": "stderr",
     "output_type": "stream",
     "text": [
      "C:\\Users\\aquar\\AppData\\Local\\Temp\\ipykernel_17852\\531903386.py:1: FutureWarning: Dropping of nuisance columns in DataFrame reductions (with 'numeric_only=None') is deprecated; in a future version this will raise TypeError.  Select only valid columns before calling the reduction.\n",
      "  data.mean()\n"
     ]
    },
    {
     "data": {
      "text/plain": [
       "HS               0.422280\n",
       "Abusive          0.382945\n",
       "HS_Individual    0.271471\n",
       "HS_Group         0.150809\n",
       "HS_Religion      0.060217\n",
       "HS_Race          0.042980\n",
       "HS_Physical      0.024527\n",
       "HS_Gender        0.023236\n",
       "HS_Other         0.284000\n",
       "HS_Weak          0.256891\n",
       "HS_Moderate      0.129471\n",
       "HS_Strong        0.035918\n",
       "dtype: float64"
      ]
     },
     "execution_count": 73,
     "metadata": {},
     "output_type": "execute_result"
    }
   ],
   "source": [
    "data.mean()"
   ]
  },
  {
   "cell_type": "code",
   "execution_count": null,
   "id": "336e540e",
   "metadata": {},
   "outputs": [],
   "source": []
  }
 ],
 "metadata": {
  "kernelspec": {
   "display_name": "Python 3 (ipykernel)",
   "language": "python",
   "name": "python3"
  },
  "language_info": {
   "codemirror_mode": {
    "name": "ipython",
    "version": 3
   },
   "file_extension": ".py",
   "mimetype": "text/x-python",
   "name": "python",
   "nbconvert_exporter": "python",
   "pygments_lexer": "ipython3",
   "version": "3.9.12"
  }
 },
 "nbformat": 4,
 "nbformat_minor": 5
}
